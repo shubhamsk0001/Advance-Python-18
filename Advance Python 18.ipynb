{
 "cells": [
  {
   "cell_type": "code",
   "execution_count": null,
   "id": "94c22a21",
   "metadata": {},
   "outputs": [],
   "source": [
    "Q1. Describe the differences between text and binary files in a single paragraph."
   ]
  },
  {
   "cell_type": "code",
   "execution_count": null,
   "id": "fa07b674",
   "metadata": {},
   "outputs": [],
   "source": [
    "The differences between Text Files and Binary Files are:\n",
    "\n",
    "Text files are special subset of binary files that are used to store human readable characters as a rich text document \n",
    "or plain text document. Text files also store data in sequential bytes but bits in text file represents characters.\n",
    "\n",
    "Binary files are those typical files that store data in the form of sequence of bytes grouped into eight bits or sometimes\n",
    "sixteen bits. These bits represent custom data and such files can store multiple types of data (images, audio, text, etc) \n",
    "under a single file."
   ]
  },
  {
   "cell_type": "code",
   "execution_count": null,
   "id": "273a627f",
   "metadata": {},
   "outputs": [],
   "source": [
    "Q2. What are some scenarios where using text files will be the better option? When would you like to use binary files \n",
    "instead of text files?"
   ]
  },
  {
   "cell_type": "code",
   "execution_count": null,
   "id": "64395993",
   "metadata": {},
   "outputs": [],
   "source": [
    "Text files are less prone to get corrupted as any undesired change may just show up once the file is opened and then can \n",
    "easily be removed. Whereas Use binary files instead of text files for image data."
   ]
  },
  {
   "cell_type": "code",
   "execution_count": null,
   "id": "919cd914",
   "metadata": {},
   "outputs": [],
   "source": [
    "Q3. What are some of the issues with using binary operations to read and write a Python integer directly to disc?"
   ]
  },
  {
   "cell_type": "code",
   "execution_count": null,
   "id": "77897e68",
   "metadata": {},
   "outputs": [],
   "source": [
    " When we read or write a python integer using binary operations\n",
    "\n",
    "Binary operations deal with raw data and One needs to identify how many bytes one would read or write."
   ]
  },
  {
   "cell_type": "code",
   "execution_count": null,
   "id": "edd8f65b",
   "metadata": {},
   "outputs": [],
   "source": [
    "Q4. Describe a benefit of using the with keyword instead of explicitly opening a file ?"
   ]
  },
  {
   "cell_type": "code",
   "execution_count": null,
   "id": "57ea2374",
   "metadata": {},
   "outputs": [],
   "source": [
    "When a file is opened using the with keyword, if some exceptions occur after opening a file, or at the end of the file \n",
    "it automatically does the closing of the file. There by not leaving an file in open mode and there would no need to \n",
    "explicitly close a file."
   ]
  },
  {
   "cell_type": "code",
   "execution_count": null,
   "id": "a09a212f",
   "metadata": {},
   "outputs": [],
   "source": [
    "Q5. Does Python have the trailing newline while reading a line of text? Does Python append a newline when you write a line \n",
    "of text?"
   ]
  },
  {
   "cell_type": "code",
   "execution_count": null,
   "id": "01279edd",
   "metadata": {},
   "outputs": [],
   "source": [
    "Yes, Python have the trailing newline while reading a line of text. When we write a newline has to be provided in python\n",
    "excpicitly."
   ]
  },
  {
   "cell_type": "code",
   "execution_count": null,
   "id": "10d4b65d",
   "metadata": {},
   "outputs": [],
   "source": [
    "Q6. What file operations enable for random-access operation?"
   ]
  },
  {
   "cell_type": "code",
   "execution_count": null,
   "id": "01906ad9",
   "metadata": {},
   "outputs": [],
   "source": [
    ": The file operations enable for random-access operation are seek() and tell()."
   ]
  },
  {
   "cell_type": "code",
   "execution_count": null,
   "id": "6ea105ce",
   "metadata": {},
   "outputs": [],
   "source": [
    "Q7. When do you think you'll use the struct package the most?"
   ]
  },
  {
   "cell_type": "code",
   "execution_count": null,
   "id": "0516f17e",
   "metadata": {},
   "outputs": [],
   "source": [
    " The struct package is mostly used while converting a common python types into C language types."
   ]
  },
  {
   "cell_type": "code",
   "execution_count": null,
   "id": "fce376b8",
   "metadata": {},
   "outputs": [],
   "source": [
    "Q8. When is pickling the best option?"
   ]
  },
  {
   "cell_type": "code",
   "execution_count": null,
   "id": "24709435",
   "metadata": {},
   "outputs": [],
   "source": [
    "Pickling is best option for creating a new binary file using python."
   ]
  },
  {
   "cell_type": "code",
   "execution_count": null,
   "id": "a0a64fa1",
   "metadata": {},
   "outputs": [],
   "source": [
    "Q9. When will it be best to use the shelve package?"
   ]
  },
  {
   "cell_type": "code",
   "execution_count": null,
   "id": "f92efcb0",
   "metadata": {},
   "outputs": [],
   "source": [
    "Shelve package is used to pickle data but treats the entire file as dictionary"
   ]
  },
  {
   "cell_type": "code",
   "execution_count": null,
   "id": "b7dea6b0",
   "metadata": {},
   "outputs": [],
   "source": [
    "Q10. What is a special restriction when using the shelve package, as opposed to using other data dictionaries?"
   ]
  },
  {
   "cell_type": "code",
   "execution_count": null,
   "id": "f06f5e6e",
   "metadata": {},
   "outputs": [],
   "source": [
    "Only string data type can be used as key in this special dictionary object, whereas any picklable Python object can be \n",
    "used as value."
   ]
  }
 ],
 "metadata": {
  "kernelspec": {
   "display_name": "Python 3 (ipykernel)",
   "language": "python",
   "name": "python3"
  },
  "language_info": {
   "codemirror_mode": {
    "name": "ipython",
    "version": 3
   },
   "file_extension": ".py",
   "mimetype": "text/x-python",
   "name": "python",
   "nbconvert_exporter": "python",
   "pygments_lexer": "ipython3",
   "version": "3.9.12"
  }
 },
 "nbformat": 4,
 "nbformat_minor": 5
}
